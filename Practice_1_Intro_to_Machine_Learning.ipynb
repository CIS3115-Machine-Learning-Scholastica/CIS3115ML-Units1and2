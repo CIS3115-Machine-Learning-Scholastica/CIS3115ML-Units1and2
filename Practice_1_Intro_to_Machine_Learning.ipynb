{
  "nbformat": 4,
  "nbformat_minor": 0,
  "metadata": {
    "colab": {
      "name": "Practice 1: Intro to Machine Learning.ipynb",
      "version": "0.3.2",
      "provenance": [],
      "collapsed_sections": []
    },
    "kernelspec": {
      "name": "python3",
      "display_name": "Python 3"
    }
  },
  "cells": [
    {
      "metadata": {
        "id": "t2nbs6VzRuKK",
        "colab_type": "text"
      },
      "cell_type": "markdown",
      "source": [
        "# Practice1: Introduction to Machine Learning, Python and Jupyter notebooks\n",
        "\n",
        "Use this notebook as the starting point for Practice 1 activities.\n",
        "\n",
        "\n",
        "\n"
      ]
    },
    {
      "metadata": {
        "id": "5vN174FqR9w9",
        "colab_type": "text"
      },
      "cell_type": "markdown",
      "source": [
        "Student Name: *Your name here*"
      ]
    },
    {
      "metadata": {
        "id": "5w9Kq4ehSR-H",
        "colab_type": "text"
      },
      "cell_type": "markdown",
      "source": [
        "## Part 1: Intro to Machine Learning\n",
        "\n",
        "Review the following and then answer the questions below:\n",
        "- Watch the 5-minute YouTube video, [What is Machine Learning? ](https://www.youtube.com/watch?v=HcqpanDadyQ&t=38s&index=2&list=PLIivdWyY5sqJxnwJhe3etaK7utrBiPBQ2)from Google's AI Adventures)\n",
        "- Read [Machine Learning Introduction: A Comprehensive Guide](https://towardsdatascience.com/machine-learning-introduction-a-comprehensive-guide-af6712cf68a3) by Victor Roman at towardsdatascience.com\n"
      ]
    },
    {
      "metadata": {
        "id": "sWjo3STQVLWS",
        "colab_type": "text"
      },
      "cell_type": "markdown",
      "source": [
        "Question 1: What are the main parts of a machine learning system?\n",
        "\n",
        "---\n",
        "\n",
        "Answer: \n",
        "\n"
      ]
    },
    {
      "metadata": {
        "id": "KiNb--7xVNur",
        "colab_type": "text"
      },
      "cell_type": "markdown",
      "source": [
        "Question 2: What is the key difference between **supervised** and **unsupervised** learning?\n",
        "\n",
        "---\n",
        "\n",
        "Answer: "
      ]
    },
    {
      "metadata": {
        "id": "aO_i1LdmVNyL",
        "colab_type": "text"
      },
      "cell_type": "markdown",
      "source": [
        "Question 3: What are two types of supervised learning?\n",
        "\n",
        "---\n",
        "\n",
        "Answer: "
      ]
    },
    {
      "metadata": {
        "id": "H3JbkLvcTgiS",
        "colab_type": "text"
      },
      "cell_type": "markdown",
      "source": [
        "## Part 2: Intro to Python\n",
        "\n",
        "Review the first two lesson's in Kaggle's Introduction to Python course:\n",
        "- [Hello, Python!](https://www.kaggle.com/colinmorris/hello-python)\n",
        "\n",
        "Copy and paste the main code segments from these lessons into the cells below. \n",
        "You can put a number of lines in each cell or add additional code cells if needed."
      ]
    },
    {
      "metadata": {
        "id": "tNd7-zt1RtmP",
        "colab_type": "code",
        "outputId": "3c755fb8-f947-4b9d-b494-01fa5a7c1ff3",
        "colab": {
          "base_uri": "https://localhost:8080/",
          "height": 67
        }
      },
      "cell_type": "code",
      "source": [
        "spam_amount = 0\n",
        "print(spam_amount)\n",
        "\n",
        "# Ordering Spam, egg, Spam, Spam, bacon and Spam (4 more servings of Spam)\n",
        "spam_amount = spam_amount + 4\n",
        "\n",
        "if spam_amount > 0:\n",
        "    print(\"But I don't want ANY spam!\")\n",
        "\n",
        "viking_song = \"Spam \" * spam_amount\n",
        "print(viking_song)"
      ],
      "execution_count": 0,
      "outputs": [
        {
          "output_type": "stream",
          "text": [
            "0\n",
            "But I don't want ANY spam!\n",
            "Spam Spam Spam Spam \n"
          ],
          "name": "stdout"
        }
      ]
    },
    {
      "metadata": {
        "id": "KJ8SePLuL7L4",
        "colab_type": "code",
        "colab": {}
      },
      "cell_type": "code",
      "source": [
        ""
      ],
      "execution_count": 0,
      "outputs": []
    },
    {
      "metadata": {
        "id": "9BMhRNaxMXpe",
        "colab_type": "code",
        "colab": {}
      },
      "cell_type": "code",
      "source": [
        ""
      ],
      "execution_count": 0,
      "outputs": []
    },
    {
      "metadata": {
        "id": "C0OkZtgGVC0q",
        "colab_type": "code",
        "colab": {}
      },
      "cell_type": "code",
      "source": [
        ""
      ],
      "execution_count": 0,
      "outputs": []
    },
    {
      "metadata": {
        "id": "SexxbK9oVDJK",
        "colab_type": "code",
        "colab": {}
      },
      "cell_type": "code",
      "source": [
        ""
      ],
      "execution_count": 0,
      "outputs": []
    },
    {
      "metadata": {
        "id": "uqTuCYNJTb3T",
        "colab_type": "text"
      },
      "cell_type": "markdown",
      "source": [
        "## Part 3: Introduction to Juptyer Notebooks\n",
        "[Introduction to Jupyter Notebooks ](https://www.dataquest.io/blog/jupyter-notebook-tutorial/)by DataQuest.\n",
        "- Skip the first couple sections which cover how to install Anaconda Python with Jupyter Notebooks\n",
        "- Focus on the following sections:\n",
        "   - The notebook interface \n",
        "   - Cells\n",
        "   - Keyboard shortcuts (not as important)\n",
        "   - Markdown\n",
        "   - Kernels\n",
        "-Example analysis: Implement the this example below"
      ]
    },
    {
      "metadata": {
        "id": "rCht-q_sWaRS",
        "colab_type": "code",
        "colab": {}
      },
      "cell_type": "code",
      "source": [
        "%matplotlib inline\n",
        "\n",
        "import pandas as pd\n",
        "import matplotlib.pyplot as plt\n",
        "import seaborn as sns\n",
        "\n",
        "sns.set(style=\"darkgrid\")"
      ],
      "execution_count": 0,
      "outputs": []
    },
    {
      "metadata": {
        "id": "TZpYjjGFwLDl",
        "colab_type": "code",
        "colab": {}
      },
      "cell_type": "code",
      "source": [
        "# df = pd.read_csv('fortune500.csv')\n",
        "\n",
        "df = pd.read_csv('https://www.dataquest.io/blog/large_files/fortune500.csv')\n"
      ],
      "execution_count": 0,
      "outputs": []
    },
    {
      "metadata": {
        "id": "P1FRv_02wRYl",
        "colab_type": "code",
        "outputId": "80689b54-7ede-4529-a002-7f72f9f382ce",
        "colab": {
          "base_uri": "https://localhost:8080/",
          "height": 195
        }
      },
      "cell_type": "code",
      "source": [
        "# Display the first couple lines\n",
        "df.head()\n"
      ],
      "execution_count": 0,
      "outputs": [
        {
          "output_type": "execute_result",
          "data": {
            "text/html": [
              "<div>\n",
              "<style scoped>\n",
              "    .dataframe tbody tr th:only-of-type {\n",
              "        vertical-align: middle;\n",
              "    }\n",
              "\n",
              "    .dataframe tbody tr th {\n",
              "        vertical-align: top;\n",
              "    }\n",
              "\n",
              "    .dataframe thead th {\n",
              "        text-align: right;\n",
              "    }\n",
              "</style>\n",
              "<table border=\"1\" class=\"dataframe\">\n",
              "  <thead>\n",
              "    <tr style=\"text-align: right;\">\n",
              "      <th></th>\n",
              "      <th>Year</th>\n",
              "      <th>Rank</th>\n",
              "      <th>Company</th>\n",
              "      <th>Revenue (in millions)</th>\n",
              "      <th>Profit (in millions)</th>\n",
              "    </tr>\n",
              "  </thead>\n",
              "  <tbody>\n",
              "    <tr>\n",
              "      <th>0</th>\n",
              "      <td>1955</td>\n",
              "      <td>1</td>\n",
              "      <td>General Motors</td>\n",
              "      <td>9823.5</td>\n",
              "      <td>806</td>\n",
              "    </tr>\n",
              "    <tr>\n",
              "      <th>1</th>\n",
              "      <td>1955</td>\n",
              "      <td>2</td>\n",
              "      <td>Exxon Mobil</td>\n",
              "      <td>5661.4</td>\n",
              "      <td>584.8</td>\n",
              "    </tr>\n",
              "    <tr>\n",
              "      <th>2</th>\n",
              "      <td>1955</td>\n",
              "      <td>3</td>\n",
              "      <td>U.S. Steel</td>\n",
              "      <td>3250.4</td>\n",
              "      <td>195.4</td>\n",
              "    </tr>\n",
              "    <tr>\n",
              "      <th>3</th>\n",
              "      <td>1955</td>\n",
              "      <td>4</td>\n",
              "      <td>General Electric</td>\n",
              "      <td>2959.1</td>\n",
              "      <td>212.6</td>\n",
              "    </tr>\n",
              "    <tr>\n",
              "      <th>4</th>\n",
              "      <td>1955</td>\n",
              "      <td>5</td>\n",
              "      <td>Esmark</td>\n",
              "      <td>2510.8</td>\n",
              "      <td>19.1</td>\n",
              "    </tr>\n",
              "  </tbody>\n",
              "</table>\n",
              "</div>"
            ],
            "text/plain": [
              "   Year  Rank           Company  Revenue (in millions) Profit (in millions)\n",
              "0  1955     1    General Motors                 9823.5                  806\n",
              "1  1955     2       Exxon Mobil                 5661.4                584.8\n",
              "2  1955     3        U.S. Steel                 3250.4                195.4\n",
              "3  1955     4  General Electric                 2959.1                212.6\n",
              "4  1955     5            Esmark                 2510.8                 19.1"
            ]
          },
          "metadata": {
            "tags": []
          },
          "execution_count": 6
        }
      ]
    },
    {
      "metadata": {
        "id": "0HJFY69MN9IO",
        "colab_type": "text"
      },
      "cell_type": "markdown",
      "source": [
        "The head command display the first set of sample records from the dataframe."
      ]
    },
    {
      "metadata": {
        "id": "zzpmBVkwxLMX",
        "colab_type": "code",
        "colab": {}
      },
      "cell_type": "code",
      "source": [
        ""
      ],
      "execution_count": 0,
      "outputs": []
    },
    {
      "metadata": {
        "id": "ERSoHCVNAzj9",
        "colab_type": "code",
        "colab": {}
      },
      "cell_type": "code",
      "source": [
        ""
      ],
      "execution_count": 0,
      "outputs": []
    }
  ]
}