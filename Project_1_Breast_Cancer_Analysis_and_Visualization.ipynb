{
  "nbformat": 4,
  "nbformat_minor": 0,
  "metadata": {
    "colab": {
      "name": "Project 1 Breast Cancer Analysis and Visualization.ipynb",
      "version": "0.3.2",
      "provenance": [],
      "collapsed_sections": []
    },
    "kernelspec": {
      "name": "python3",
      "display_name": "Python 3"
    }
  },
  "cells": [
    {
      "metadata": {
        "id": "cPC4l5vzXutA",
        "colab_type": "text"
      },
      "cell_type": "markdown",
      "source": [
        "# Project 1 Breast Cancer Analysis and Visualization\n",
        "\n",
        "*Projects are an important part of the learning and assessment process in this course. Plan on committing considerable resources to each Project.*\n",
        "\n",
        "## Background on Breast Cancer\n",
        "\n",
        "\n",
        "> Breast cancer is cancer that forms in the cells of the breasts. After skin cancer, breast cancer is the most common cancer diagnosed in women in the United States. Breast cancer can occur in both men and women, but it's far more common in women. -- [MayoClinic.org](https://www.mayoclinic.org/diseases-conditions/breast-cancer/symptoms-causes/syc-20352470)\n",
        "\n",
        "> A tumor can be **benign** (not dangerous to health) or **malignant** (has the potential to be dangerous). Benign tumors are not considered cancerous: their cells are close to normal in appearance, they grow slowly, and they do not invade nearby tissues or spread to other parts of the body. Malignant tumors are cancerous. Left unchecked, malignant cells eventually can spread beyond the original tumor to other parts of the body. -- [BreastCancer.org](https://www.breastcancer.org/symptoms/understand_bc/what_is_bc)\n",
        "\n",
        "## Overview of the Data\n",
        "\n",
        "This data was originally obtained from the University of Wisconsin Hospitals, Madison from Dr. William H. Wolberg. This data has become a standard machine learning example and can be found both at the [University of California-Irvine Machine Learning Repository](http://archive.ics.uci.edu/ml/datasets/Breast+Cancer+Wisconsin+%28Diagnostic%29) and the[ Kaggle Data sets](https://www.kaggle.com/uciml/breast-cancer-wisconsin-data). Both of these sites can provide additional details on the data.\n",
        "\n",
        "The dataset contains over 500 samples of malignant and benign tumor cells.\n",
        "\n",
        "- The first two columns in the dataset store the unique ID numbers of the samples and the corresponding diagnosis (M=malignant, B=benign), respectively.\n",
        "- The columns 3-32 contain 30 real-value features that have been computed from digitized images of the cell nuclei, which can be used to build a model to predict whether a tumor is benign or malignant."
      ]
    },
    {
      "metadata": {
        "id": "e-sasyYSXu8f",
        "colab_type": "text"
      },
      "cell_type": "markdown",
      "source": [
        "## Setup\n",
        "\n",
        "\n",
        "\n",
        "\n",
        "\n",
        "\n"
      ]
    },
    {
      "metadata": {
        "id": "sWiLBUj8YTuw",
        "colab_type": "text"
      },
      "cell_type": "markdown",
      "source": [
        "**Setting up Python tools: **\n",
        "\n",
        "We'll use three libraries for this tutorial: [pandas](http://pandas.pydata.org/), [matplotlib](http://matplotlib.org/), and [seaborn](http://stanford.edu/~mwaskom/software/seaborn/).\n",
        "\n",
        "\n"
      ]
    },
    {
      "metadata": {
        "id": "Wg4A5MUPYUIv",
        "colab_type": "code",
        "colab": {}
      },
      "cell_type": "code",
      "source": [
        "# First, we'll import pandas, a data processing and CSV file I/O library\n",
        "import pandas as pd\n",
        "\n",
        "# We'll also import seaborn and matplot, twp Python graphing libraries\n",
        "import seaborn as sns\n",
        "import matplotlib.pyplot as plt"
      ],
      "execution_count": 0,
      "outputs": []
    },
    {
      "metadata": {
        "id": "3M_iR125YT-g",
        "colab_type": "text"
      },
      "cell_type": "markdown",
      "source": [
        "## Read in the Wisconsin Breast Cancer data\n",
        "The Breast Cancer data is read in from a file stored on the internet\n",
        "<p>\n",
        "It is stored in a Pandas DataFrame which is similar to an internal spreadsheet in that the data is stored in rows and columns."
      ]
    },
    {
      "metadata": {
        "id": "xpp6jJk3YULn",
        "colab_type": "code",
        "colab": {}
      },
      "cell_type": "code",
      "source": [
        "# Read in the data file from stored in a raw file in GitHub\n",
        "url = 'https://raw.githubusercontent.com/CIS3115-Machine-Learning-Scholastica/CIS3115ML-Units1and2/master/breast-cancer-wisconsin-mod.csv'\n",
        "\n",
        "cancer = pd.read_csv(url)\n",
        "# Set the Id column as the index since it is unique for each pati\n",
        "cancer.set_index('id', inplace=True)"
      ],
      "execution_count": 0,
      "outputs": []
    },
    {
      "metadata": {
        "id": "jRBywKHdcyO4",
        "colab_type": "code",
        "colab": {
          "base_uri": "https://localhost:8080/",
          "height": 295
        },
        "outputId": "16a45f99-2086-4845-b594-5ca0609144be"
      },
      "cell_type": "code",
      "source": [
        "# Display the first 5 rows at the start, or head, of the dataframe\n",
        "cancer.head(5)"
      ],
      "execution_count": 23,
      "outputs": [
        {
          "output_type": "execute_result",
          "data": {
            "text/html": [
              "<div>\n",
              "<style scoped>\n",
              "    .dataframe tbody tr th:only-of-type {\n",
              "        vertical-align: middle;\n",
              "    }\n",
              "\n",
              "    .dataframe tbody tr th {\n",
              "        vertical-align: top;\n",
              "    }\n",
              "\n",
              "    .dataframe thead th {\n",
              "        text-align: right;\n",
              "    }\n",
              "</style>\n",
              "<table border=\"1\" class=\"dataframe\">\n",
              "  <thead>\n",
              "    <tr style=\"text-align: right;\">\n",
              "      <th></th>\n",
              "      <th>diagnosis</th>\n",
              "      <th>radius_mean</th>\n",
              "      <th>texture_mean</th>\n",
              "      <th>perimeter_mean</th>\n",
              "      <th>area_mean</th>\n",
              "      <th>smoothness_mean</th>\n",
              "      <th>compactness_mean</th>\n",
              "      <th>concavity_mean</th>\n",
              "      <th>concave points_mean</th>\n",
              "      <th>symmetry_mean</th>\n",
              "      <th>...</th>\n",
              "      <th>texture_worst</th>\n",
              "      <th>perimeter_worst</th>\n",
              "      <th>area_worst</th>\n",
              "      <th>smoothness_worst</th>\n",
              "      <th>compactness_worst</th>\n",
              "      <th>concavity_worst</th>\n",
              "      <th>concave points_worst</th>\n",
              "      <th>symmetry_worst</th>\n",
              "      <th>fractal_dimension_worst</th>\n",
              "      <th>Unnamed: 32</th>\n",
              "    </tr>\n",
              "    <tr>\n",
              "      <th>id</th>\n",
              "      <th></th>\n",
              "      <th></th>\n",
              "      <th></th>\n",
              "      <th></th>\n",
              "      <th></th>\n",
              "      <th></th>\n",
              "      <th></th>\n",
              "      <th></th>\n",
              "      <th></th>\n",
              "      <th></th>\n",
              "      <th></th>\n",
              "      <th></th>\n",
              "      <th></th>\n",
              "      <th></th>\n",
              "      <th></th>\n",
              "      <th></th>\n",
              "      <th></th>\n",
              "      <th></th>\n",
              "      <th></th>\n",
              "      <th></th>\n",
              "      <th></th>\n",
              "    </tr>\n",
              "  </thead>\n",
              "  <tbody>\n",
              "    <tr>\n",
              "      <th>842302</th>\n",
              "      <td>M</td>\n",
              "      <td>17.99</td>\n",
              "      <td>10.38</td>\n",
              "      <td>122.80</td>\n",
              "      <td>1001.0</td>\n",
              "      <td>0.11840</td>\n",
              "      <td>0.27760</td>\n",
              "      <td>0.3001</td>\n",
              "      <td>0.14710</td>\n",
              "      <td>0.2419</td>\n",
              "      <td>...</td>\n",
              "      <td>17.33</td>\n",
              "      <td>184.60</td>\n",
              "      <td>2019.0</td>\n",
              "      <td>0.1622</td>\n",
              "      <td>0.6656</td>\n",
              "      <td>0.7119</td>\n",
              "      <td>0.2654</td>\n",
              "      <td>0.4601</td>\n",
              "      <td>0.11890</td>\n",
              "      <td>NaN</td>\n",
              "    </tr>\n",
              "    <tr>\n",
              "      <th>842517</th>\n",
              "      <td>M</td>\n",
              "      <td>20.57</td>\n",
              "      <td>17.77</td>\n",
              "      <td>132.90</td>\n",
              "      <td>1326.0</td>\n",
              "      <td>0.08474</td>\n",
              "      <td>0.07864</td>\n",
              "      <td>0.0869</td>\n",
              "      <td>0.07017</td>\n",
              "      <td>0.1812</td>\n",
              "      <td>...</td>\n",
              "      <td>23.41</td>\n",
              "      <td>158.80</td>\n",
              "      <td>1956.0</td>\n",
              "      <td>0.1238</td>\n",
              "      <td>0.1866</td>\n",
              "      <td>0.2416</td>\n",
              "      <td>0.1860</td>\n",
              "      <td>0.2750</td>\n",
              "      <td>0.08902</td>\n",
              "      <td>NaN</td>\n",
              "    </tr>\n",
              "    <tr>\n",
              "      <th>84300903</th>\n",
              "      <td>M</td>\n",
              "      <td>19.69</td>\n",
              "      <td>21.25</td>\n",
              "      <td>130.00</td>\n",
              "      <td>1203.0</td>\n",
              "      <td>0.10960</td>\n",
              "      <td>0.15990</td>\n",
              "      <td>0.1974</td>\n",
              "      <td>0.12790</td>\n",
              "      <td>0.2069</td>\n",
              "      <td>...</td>\n",
              "      <td>25.53</td>\n",
              "      <td>152.50</td>\n",
              "      <td>1709.0</td>\n",
              "      <td>0.1444</td>\n",
              "      <td>0.4245</td>\n",
              "      <td>0.4504</td>\n",
              "      <td>0.2430</td>\n",
              "      <td>0.3613</td>\n",
              "      <td>0.08758</td>\n",
              "      <td>NaN</td>\n",
              "    </tr>\n",
              "    <tr>\n",
              "      <th>84348301</th>\n",
              "      <td>M</td>\n",
              "      <td>11.42</td>\n",
              "      <td>20.38</td>\n",
              "      <td>77.58</td>\n",
              "      <td>386.1</td>\n",
              "      <td>0.14250</td>\n",
              "      <td>0.28390</td>\n",
              "      <td>0.2414</td>\n",
              "      <td>0.10520</td>\n",
              "      <td>0.2597</td>\n",
              "      <td>...</td>\n",
              "      <td>26.50</td>\n",
              "      <td>98.87</td>\n",
              "      <td>567.7</td>\n",
              "      <td>0.2098</td>\n",
              "      <td>0.8663</td>\n",
              "      <td>0.6869</td>\n",
              "      <td>0.2575</td>\n",
              "      <td>0.6638</td>\n",
              "      <td>0.17300</td>\n",
              "      <td>NaN</td>\n",
              "    </tr>\n",
              "    <tr>\n",
              "      <th>84358402</th>\n",
              "      <td>M</td>\n",
              "      <td>20.29</td>\n",
              "      <td>14.34</td>\n",
              "      <td>135.10</td>\n",
              "      <td>1297.0</td>\n",
              "      <td>0.10030</td>\n",
              "      <td>0.13280</td>\n",
              "      <td>0.1980</td>\n",
              "      <td>0.10430</td>\n",
              "      <td>0.1809</td>\n",
              "      <td>...</td>\n",
              "      <td>16.67</td>\n",
              "      <td>152.20</td>\n",
              "      <td>1575.0</td>\n",
              "      <td>0.1374</td>\n",
              "      <td>0.2050</td>\n",
              "      <td>0.4000</td>\n",
              "      <td>0.1625</td>\n",
              "      <td>0.2364</td>\n",
              "      <td>0.07678</td>\n",
              "      <td>NaN</td>\n",
              "    </tr>\n",
              "  </tbody>\n",
              "</table>\n",
              "<p>5 rows × 32 columns</p>\n",
              "</div>"
            ],
            "text/plain": [
              "         diagnosis  radius_mean  texture_mean  perimeter_mean  area_mean  \\\n",
              "id                                                                         \n",
              "842302           M        17.99         10.38          122.80     1001.0   \n",
              "842517           M        20.57         17.77          132.90     1326.0   \n",
              "84300903         M        19.69         21.25          130.00     1203.0   \n",
              "84348301         M        11.42         20.38           77.58      386.1   \n",
              "84358402         M        20.29         14.34          135.10     1297.0   \n",
              "\n",
              "          smoothness_mean  compactness_mean  concavity_mean  \\\n",
              "id                                                            \n",
              "842302            0.11840           0.27760          0.3001   \n",
              "842517            0.08474           0.07864          0.0869   \n",
              "84300903          0.10960           0.15990          0.1974   \n",
              "84348301          0.14250           0.28390          0.2414   \n",
              "84358402          0.10030           0.13280          0.1980   \n",
              "\n",
              "          concave points_mean  symmetry_mean     ...       texture_worst  \\\n",
              "id                                               ...                       \n",
              "842302                0.14710         0.2419     ...               17.33   \n",
              "842517                0.07017         0.1812     ...               23.41   \n",
              "84300903              0.12790         0.2069     ...               25.53   \n",
              "84348301              0.10520         0.2597     ...               26.50   \n",
              "84358402              0.10430         0.1809     ...               16.67   \n",
              "\n",
              "          perimeter_worst  area_worst  smoothness_worst  compactness_worst  \\\n",
              "id                                                                           \n",
              "842302             184.60      2019.0            0.1622             0.6656   \n",
              "842517             158.80      1956.0            0.1238             0.1866   \n",
              "84300903           152.50      1709.0            0.1444             0.4245   \n",
              "84348301            98.87       567.7            0.2098             0.8663   \n",
              "84358402           152.20      1575.0            0.1374             0.2050   \n",
              "\n",
              "          concavity_worst  concave points_worst  symmetry_worst  \\\n",
              "id                                                                \n",
              "842302             0.7119                0.2654          0.4601   \n",
              "842517             0.2416                0.1860          0.2750   \n",
              "84300903           0.4504                0.2430          0.3613   \n",
              "84348301           0.6869                0.2575          0.6638   \n",
              "84358402           0.4000                0.1625          0.2364   \n",
              "\n",
              "          fractal_dimension_worst  Unnamed: 32  \n",
              "id                                              \n",
              "842302                    0.11890          NaN  \n",
              "842517                    0.08902          NaN  \n",
              "84300903                  0.08758          NaN  \n",
              "84348301                  0.17300          NaN  \n",
              "84358402                  0.07678          NaN  \n",
              "\n",
              "[5 rows x 32 columns]"
            ]
          },
          "metadata": {
            "tags": []
          },
          "execution_count": 23
        }
      ]
    },
    {
      "metadata": {
        "id": "IvfDcuPrdCAY",
        "colab_type": "text"
      },
      "cell_type": "markdown",
      "source": [
        "## Task 1: Clearn up the Data\n",
        "There are a number of errors in this data. Looking back at the Practice 2 notebook, do the following:\n",
        "- Remove any rows with blank cells\n",
        "- Remove any rows with admornmal or erroneous data\n",
        "- Include a description of each row you are removing and your justification for removing it."
      ]
    },
    {
      "metadata": {
        "id": "kelIWT7wcwNf",
        "colab_type": "code",
        "colab": {}
      },
      "cell_type": "code",
      "source": [
        "# include code in these cells for analyzing the data and removing the needed rows"
      ],
      "execution_count": 0,
      "outputs": []
    },
    {
      "metadata": {
        "id": "XBE0walbduZg",
        "colab_type": "text"
      },
      "cell_type": "markdown",
      "source": [
        "In full sentences, describe which rows you are removing and why you feel it should be removed."
      ]
    },
    {
      "metadata": {
        "id": "X4DYgXTHduO4",
        "colab_type": "code",
        "colab": {}
      },
      "cell_type": "code",
      "source": [
        "# include code in these cells for analyzing the data and removing the needed rows"
      ],
      "execution_count": 0,
      "outputs": []
    },
    {
      "metadata": {
        "id": "YRRCo163ducg",
        "colab_type": "text"
      },
      "cell_type": "markdown",
      "source": [
        "In full sentences, describe which rows you are removing and why you feel it should be removed."
      ]
    },
    {
      "metadata": {
        "id": "Zylcb1A-A1Yr",
        "colab_type": "code",
        "colab": {}
      },
      "cell_type": "code",
      "source": [
        "# BONUS challenge: Look at all the columns and determine if any of them are extra.\n",
        "# If you find any extra of blank collumns, search for the code to delete them.\n",
        "# Bonus challenges are optional and you do not need to do them :)\n"
      ],
      "execution_count": 0,
      "outputs": []
    },
    {
      "metadata": {
        "id": "8VYkSTWNeGEB",
        "colab_type": "code",
        "colab": {
          "base_uri": "https://localhost:8080/",
          "height": 35
        },
        "outputId": "ad6eec88-9a4f-458d-cef5-cc3ce3cfbf2c"
      },
      "cell_type": "code",
      "source": [
        "# Display the data size after all the errors have been removed.\n",
        "print (\"Final data size is: \", cancer.shape)\n",
        "# While we won't share complete solutions to the projects in the Blackboard discussions\n",
        "# you are allowed to share hints and information like the final number of good records you had."
      ],
      "execution_count": 26,
      "outputs": [
        {
          "output_type": "stream",
          "text": [
            "Final data size is:  (569, 32)\n"
          ],
          "name": "stdout"
        }
      ]
    },
    {
      "metadata": {
        "id": "f-3sssvFfA9J",
        "colab_type": "text"
      },
      "cell_type": "markdown",
      "source": [
        "## Task 2: Visualize the Data\n",
        "You must create five visualizations of the breast cancer data. For each visualization, include a description using full sentences of the following\n",
        "- What the visualization shows\n",
        "- Why this might be useful\n",
        "- Any external sources for the code you used--simple URLs are fine.\n",
        "- Something you would like to improve with the visualization\n",
        "\n",
        "You can certainly reuse some of the visualizations from Practice 2, but here are some additional notebooks to look at for inspiration:\n",
        "- [Python ML - breast cancer diagnostic data set](https://www.kaggle.com/rcfreitas/python-ml-breast-cancer-diagnostic-data-set)\n",
        "- [ Breast Cancer Images](https://www.kaggle.com/reyhaneh/breast-cancer-image)\n",
        "- [ Data analysis using pandas and seaborn & sklearn](https://www.kaggle.com/akshaymewada7/data-analysis-using-pandas-and-seaborn-sklearn)\n",
        "- [Breast Cancer Risk Prediction ](https://github.com/Jean-njoroge/Breast-cancer-risk-prediction/blob/master/NB2_ExploratoryDataAnalysis.ipynb)\n",
        "- [Exploratory Analysis on Breast Cancer Data Set](https://www.inertia7.com/projects/3)\n",
        "  "
      ]
    },
    {
      "metadata": {
        "id": "LN3m6HZUf8w4",
        "colab_type": "code",
        "colab": {
          "base_uri": "https://localhost:8080/",
          "height": 365
        },
        "outputId": "2f7acc52-28b5-4ab8-b5af-a7a3f5b84204"
      },
      "cell_type": "code",
      "source": [
        "# Code for Visualization 0\n",
        "#plt.scatter(cancer.area_mean, cancer.symmetry_worst, \n",
        "plt.scatter(cancer.radius_mean, cancer.texture_mean, \n",
        "            alpha=0.2,\n",
        "            c=cancer.diagnosis, \n",
        "            cmap='viridis')"
      ],
      "execution_count": 27,
      "outputs": [
        {
          "output_type": "execute_result",
          "data": {
            "text/plain": [
              "<matplotlib.collections.PathCollection at 0x7fb0f1f00438>"
            ]
          },
          "metadata": {
            "tags": []
          },
          "execution_count": 27
        },
        {
          "output_type": "display_data",
          "data": {
            "image/png": "[encoded data removed]",
            "text/plain": [
              "<matplotlib.figure.Figure at 0x7fb0f1e10780>"
            ]
          },
          "metadata": {
            "tags": []
          }
        }
      ]
    },
    {
      "metadata": {
        "id": "M7caXSnnf_Bx",
        "colab_type": "text"
      },
      "cell_type": "markdown",
      "source": [
        "### Description of Visualization 0\n",
        "*This is a sample visualation and does not count as one of the five you must create.*\n",
        "\n",
        "The above graph shows a scatter plot of two measurements of tumors. The measurement along the X-axis is called \"radius_mean\" in the database and is the average distance from the center of the tumor to the edge. Along the Y-axis the measurement is the \"texture_mean\" and this is the standard deviation of the grayness of the color of the tumor image. Each cancer tumor is given a different color if it is malignant or benign.\n",
        "\n",
        "This visualization is useful in determining if together the radius_mean and texture_mean provide enough data to determine if a tumor is malignant or not. While these two measurements do separate the tumors well, more of the malignant tumors are in the upper right of the graph, there is still significant overlap. This means it would be difficult to diagnose tumors from these two measurements alone.\n",
        "\n",
        "One thing that could make this visualization better is a legend showing which color is associated with malignant and benign tumors. It would also be nice to label the X-axis and Y-axis with the measurement type.\n",
        "\n",
        "This visualization comes from a notebook created by a former student, Jenni Vang. \n",
        "\n",
        "\n",
        "---\n",
        "\n"
      ]
    },
    {
      "metadata": {
        "id": "D72Zs-lzf-Ig",
        "colab_type": "code",
        "colab": {}
      },
      "cell_type": "code",
      "source": [
        "# Code for Visualization 1\n"
      ],
      "execution_count": 0,
      "outputs": []
    },
    {
      "metadata": {
        "id": "Kw2ARqv6gK0p",
        "colab_type": "text"
      },
      "cell_type": "markdown",
      "source": [
        "\n",
        "### Description of Visualization 1\n",
        "\n",
        "Double-click here to enter in your description\n",
        "\n",
        "\n",
        "---\n"
      ]
    },
    {
      "metadata": {
        "id": "UUTlO7-ggRvn",
        "colab_type": "code",
        "colab": {}
      },
      "cell_type": "code",
      "source": [
        "# Code for Visualization 2\n"
      ],
      "execution_count": 0,
      "outputs": []
    },
    {
      "metadata": {
        "colab_type": "text",
        "id": "e9esZ202gYhz"
      },
      "cell_type": "markdown",
      "source": [
        "### Description of Visualization 2\n",
        "\n",
        "Double-click here to enter in your description\n",
        "\n",
        "\n",
        "---\n"
      ]
    },
    {
      "metadata": {
        "id": "_i2y5jWUgqOY",
        "colab_type": "code",
        "colab": {}
      },
      "cell_type": "code",
      "source": [
        "# Code for Visualization 3\n"
      ],
      "execution_count": 0,
      "outputs": []
    },
    {
      "metadata": {
        "colab_type": "text",
        "id": "lzTkbDOegY3E"
      },
      "cell_type": "markdown",
      "source": [
        "### Description of Visualization 3\n",
        "\n",
        "Double-click here to enter in your description\n",
        "\n",
        "\n",
        "\n",
        "---\n"
      ]
    },
    {
      "metadata": {
        "colab_type": "code",
        "id": "xoy7U2urgzT0",
        "colab": {}
      },
      "cell_type": "code",
      "source": [
        "# Code for Visualization 4\n"
      ],
      "execution_count": 0,
      "outputs": []
    },
    {
      "metadata": {
        "colab_type": "text",
        "id": "9h36K3fLgZND"
      },
      "cell_type": "markdown",
      "source": [
        "### Description of Visualization 4\n",
        "\n",
        "Double-click here to enter in your description\n",
        "\n",
        "\n",
        "---\n"
      ]
    },
    {
      "metadata": {
        "colab_type": "code",
        "id": "PtJHT6mpgzvb",
        "colab": {}
      },
      "cell_type": "code",
      "source": [
        "# Code for Visualization 5\n"
      ],
      "execution_count": 0,
      "outputs": []
    },
    {
      "metadata": {
        "colab_type": "text",
        "id": "tvX7YOGxgZ_z"
      },
      "cell_type": "markdown",
      "source": [
        "### Description of Visualization 5\n",
        "\n",
        "Double-click here to enter in your description\n",
        "\n",
        "\n",
        "---\n"
      ]
    },
    {
      "metadata": {
        "id": "uvaWmUuLB6aE",
        "colab_type": "text"
      },
      "cell_type": "markdown",
      "source": [
        "## Wrapping Up\n",
        "\n",
        "Remember to share this sheet with your instructor and submit a link to it in Blackboard."
      ]
    },
    {
      "metadata": {
        "id": "BAP5ibcQbcc0",
        "colab_type": "code",
        "colab": {}
      },
      "cell_type": "code",
      "source": [
        ""
      ],
      "execution_count": 0,
      "outputs": []
    }
  ]
}